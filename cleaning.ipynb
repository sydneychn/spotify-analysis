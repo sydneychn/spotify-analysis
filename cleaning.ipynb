{
 "cells": [
  {
   "cell_type": "markdown",
   "id": "8e6bccb7",
   "metadata": {},
   "source": [
    "Combining All History JSON Files"
   ]
  },
  {
   "cell_type": "code",
   "execution_count": 2,
   "id": "9c9af50e",
   "metadata": {},
   "outputs": [
    {
     "name": "stdout",
     "output_type": "stream",
     "text": [
      "Index(['ts', 'platform', 'ms_played', 'conn_country', 'ip_addr',\n",
      "       'master_metadata_track_name', 'master_metadata_album_artist_name',\n",
      "       'master_metadata_album_album_name', 'spotify_track_uri', 'episode_name',\n",
      "       'episode_show_name', 'spotify_episode_uri', 'audiobook_title',\n",
      "       'audiobook_uri', 'audiobook_chapter_uri', 'audiobook_chapter_title',\n",
      "       'reason_start', 'reason_end', 'shuffle', 'skipped', 'offline',\n",
      "       'offline_timestamp', 'incognito_mode'],\n",
      "      dtype='object')\n"
     ]
    }
   ],
   "source": [
    "import pandas as pd\n",
    "import time\n",
    "#combining total history\n",
    "history0 = pd.read_json('files/syd0.json')\n",
    "history1 = pd.read_json('files/syd1.json')\n",
    "history2 = pd.read_json('files/syd2.json')\n",
    "history3 = pd.read_json('files/syd3.json')\n",
    "history4 = pd.read_json('files/syd4.json')\n",
    "history5 = pd.read_json('files/syd5.json')\n",
    "history6 = pd.read_json('files/syd6.json')\n",
    "history7 = pd.read_json('files/syd7.json')\n",
    "history8 = pd.read_json('files/syd8.json')\n",
    "history9 = pd.read_json('files/syd9.json')\n",
    "history10 = pd.read_json('files/syd10.json')\n",
    "history11 = pd.read_json('files/syd11.json')\n",
    "history12 = pd.read_json('files/syd12.json')\n",
    "history13 = pd.read_json('files/syd13.json')\n",
    "history14 = pd.read_json('files/syd14.json')\n",
    "history15 = pd.read_json('files/syd15.json')\n",
    "history16 = pd.read_json('files/syd16.json')\n",
    "history17 = pd.read_json('files/syd17.json')\n",
    "history18 = pd.read_json('files/syd18.json')\n",
    "history19 = pd.read_json('files/syd19.json')\n",
    "complete = pd.concat([history0,history1,history2,history3,history4,history5,history6,history7,history8,history9,history10,history11,history12,history13,history14,history15,history16,history17,history18,history19])\n",
    "print(complete.columns)\n",
    "\n",
    "\n",
    "\n",
    "\n",
    "\n"
   ]
  },
  {
   "cell_type": "markdown",
   "id": "11991001",
   "metadata": {},
   "source": [
    "Cleaning and Reformatting/naming Columns"
   ]
  },
  {
   "cell_type": "code",
   "execution_count": 3,
   "id": "ead6d0b0",
   "metadata": {},
   "outputs": [
    {
     "data": {
      "text/html": [
       "<div>\n",
       "<style scoped>\n",
       "    .dataframe tbody tr th:only-of-type {\n",
       "        vertical-align: middle;\n",
       "    }\n",
       "\n",
       "    .dataframe tbody tr th {\n",
       "        vertical-align: top;\n",
       "    }\n",
       "\n",
       "    .dataframe thead th {\n",
       "        text-align: right;\n",
       "    }\n",
       "</style>\n",
       "<table border=\"1\" class=\"dataframe\">\n",
       "  <thead>\n",
       "    <tr style=\"text-align: right;\">\n",
       "      <th></th>\n",
       "      <th>exact_time</th>\n",
       "      <th>milliseconds</th>\n",
       "      <th>country</th>\n",
       "      <th>track_name</th>\n",
       "      <th>artist_name</th>\n",
       "      <th>album_name</th>\n",
       "      <th>track_uri</th>\n",
       "      <th>episode_name</th>\n",
       "      <th>show_name</th>\n",
       "      <th>episode_uri</th>\n",
       "      <th>...</th>\n",
       "      <th>end_reason</th>\n",
       "      <th>shuffle</th>\n",
       "      <th>skipped</th>\n",
       "      <th>incognito</th>\n",
       "      <th>minutes</th>\n",
       "      <th>hour</th>\n",
       "      <th>day</th>\n",
       "      <th>month</th>\n",
       "      <th>weekday</th>\n",
       "      <th>year</th>\n",
       "    </tr>\n",
       "  </thead>\n",
       "  <tbody>\n",
       "    <tr>\n",
       "      <th>0</th>\n",
       "      <td>2020-04-06 20:27:23+00:00</td>\n",
       "      <td>21873</td>\n",
       "      <td>US</td>\n",
       "      <td>ball w/o you</td>\n",
       "      <td>21 Savage</td>\n",
       "      <td>i am &gt; i was</td>\n",
       "      <td>spotify:track:50a8bKqlwDEqeiEknrzkTO</td>\n",
       "      <td>None</td>\n",
       "      <td>None</td>\n",
       "      <td>None</td>\n",
       "      <td>...</td>\n",
       "      <td>endplay</td>\n",
       "      <td>False</td>\n",
       "      <td>False</td>\n",
       "      <td>False</td>\n",
       "      <td>0.364550</td>\n",
       "      <td>20</td>\n",
       "      <td>2020-04-06</td>\n",
       "      <td>4</td>\n",
       "      <td>0</td>\n",
       "      <td>2020</td>\n",
       "    </tr>\n",
       "    <tr>\n",
       "      <th>1</th>\n",
       "      <td>2020-04-06 20:29:19+00:00</td>\n",
       "      <td>1830</td>\n",
       "      <td>US</td>\n",
       "      <td>Far From You</td>\n",
       "      <td>Rich The Kid</td>\n",
       "      <td>BOSS MAN</td>\n",
       "      <td>spotify:track:4VV8svAvJBYCPRTRwl01Z5</td>\n",
       "      <td>None</td>\n",
       "      <td>None</td>\n",
       "      <td>None</td>\n",
       "      <td>...</td>\n",
       "      <td>endplay</td>\n",
       "      <td>False</td>\n",
       "      <td>False</td>\n",
       "      <td>False</td>\n",
       "      <td>0.030500</td>\n",
       "      <td>20</td>\n",
       "      <td>2020-04-06</td>\n",
       "      <td>4</td>\n",
       "      <td>0</td>\n",
       "      <td>2020</td>\n",
       "    </tr>\n",
       "    <tr>\n",
       "      <th>2</th>\n",
       "      <td>2020-04-06 20:29:23+00:00</td>\n",
       "      <td>3950</td>\n",
       "      <td>US</td>\n",
       "      <td>Stuck Together (feat. Lil Baby)</td>\n",
       "      <td>Rich The Kid</td>\n",
       "      <td>BOSS MAN</td>\n",
       "      <td>spotify:track:5cHPAqi6V5JPMy0vqS4lK6</td>\n",
       "      <td>None</td>\n",
       "      <td>None</td>\n",
       "      <td>None</td>\n",
       "      <td>...</td>\n",
       "      <td>endplay</td>\n",
       "      <td>False</td>\n",
       "      <td>False</td>\n",
       "      <td>False</td>\n",
       "      <td>0.065833</td>\n",
       "      <td>20</td>\n",
       "      <td>2020-04-06</td>\n",
       "      <td>4</td>\n",
       "      <td>0</td>\n",
       "      <td>2020</td>\n",
       "    </tr>\n",
       "    <tr>\n",
       "      <th>3</th>\n",
       "      <td>2020-04-06 20:29:29+00:00</td>\n",
       "      <td>5700</td>\n",
       "      <td>US</td>\n",
       "      <td>Sick (feat. DaBaby)</td>\n",
       "      <td>Rich The Kid</td>\n",
       "      <td>BOSS MAN</td>\n",
       "      <td>spotify:track:0BqyyCV8M6roYLRmNtiasC</td>\n",
       "      <td>None</td>\n",
       "      <td>None</td>\n",
       "      <td>None</td>\n",
       "      <td>...</td>\n",
       "      <td>endplay</td>\n",
       "      <td>False</td>\n",
       "      <td>False</td>\n",
       "      <td>False</td>\n",
       "      <td>0.095000</td>\n",
       "      <td>20</td>\n",
       "      <td>2020-04-06</td>\n",
       "      <td>4</td>\n",
       "      <td>0</td>\n",
       "      <td>2020</td>\n",
       "    </tr>\n",
       "    <tr>\n",
       "      <th>4</th>\n",
       "      <td>2020-04-06 20:29:37+00:00</td>\n",
       "      <td>7420</td>\n",
       "      <td>US</td>\n",
       "      <td>Not Sorry (feat. Nicki Minaj)</td>\n",
       "      <td>Rich The Kid</td>\n",
       "      <td>BOSS MAN</td>\n",
       "      <td>spotify:track:69pWehVZg0u3o17imQuEVj</td>\n",
       "      <td>None</td>\n",
       "      <td>None</td>\n",
       "      <td>None</td>\n",
       "      <td>...</td>\n",
       "      <td>endplay</td>\n",
       "      <td>False</td>\n",
       "      <td>False</td>\n",
       "      <td>False</td>\n",
       "      <td>0.123667</td>\n",
       "      <td>20</td>\n",
       "      <td>2020-04-06</td>\n",
       "      <td>4</td>\n",
       "      <td>0</td>\n",
       "      <td>2020</td>\n",
       "    </tr>\n",
       "  </tbody>\n",
       "</table>\n",
       "<p>5 rows × 21 columns</p>\n",
       "</div>"
      ],
      "text/plain": [
       "                 exact_time  milliseconds country  \\\n",
       "0 2020-04-06 20:27:23+00:00         21873      US   \n",
       "1 2020-04-06 20:29:19+00:00          1830      US   \n",
       "2 2020-04-06 20:29:23+00:00          3950      US   \n",
       "3 2020-04-06 20:29:29+00:00          5700      US   \n",
       "4 2020-04-06 20:29:37+00:00          7420      US   \n",
       "\n",
       "                        track_name   artist_name    album_name  \\\n",
       "0                     ball w/o you     21 Savage  i am > i was   \n",
       "1                     Far From You  Rich The Kid      BOSS MAN   \n",
       "2  Stuck Together (feat. Lil Baby)  Rich The Kid      BOSS MAN   \n",
       "3              Sick (feat. DaBaby)  Rich The Kid      BOSS MAN   \n",
       "4    Not Sorry (feat. Nicki Minaj)  Rich The Kid      BOSS MAN   \n",
       "\n",
       "                              track_uri episode_name show_name episode_uri  \\\n",
       "0  spotify:track:50a8bKqlwDEqeiEknrzkTO         None      None        None   \n",
       "1  spotify:track:4VV8svAvJBYCPRTRwl01Z5         None      None        None   \n",
       "2  spotify:track:5cHPAqi6V5JPMy0vqS4lK6         None      None        None   \n",
       "3  spotify:track:0BqyyCV8M6roYLRmNtiasC         None      None        None   \n",
       "4  spotify:track:69pWehVZg0u3o17imQuEVj         None      None        None   \n",
       "\n",
       "   ... end_reason shuffle  skipped  incognito   minutes  hour         day  \\\n",
       "0  ...    endplay   False    False      False  0.364550    20  2020-04-06   \n",
       "1  ...    endplay   False    False      False  0.030500    20  2020-04-06   \n",
       "2  ...    endplay   False    False      False  0.065833    20  2020-04-06   \n",
       "3  ...    endplay   False    False      False  0.095000    20  2020-04-06   \n",
       "4  ...    endplay   False    False      False  0.123667    20  2020-04-06   \n",
       "\n",
       "  month  weekday  year  \n",
       "0     4        0  2020  \n",
       "1     4        0  2020  \n",
       "2     4        0  2020  \n",
       "3     4        0  2020  \n",
       "4     4        0  2020  \n",
       "\n",
       "[5 rows x 21 columns]"
      ]
     },
     "execution_count": 3,
     "metadata": {},
     "output_type": "execute_result"
    }
   ],
   "source": [
    "#Drop unecessary columns and rename original\n",
    "complete = complete.drop(columns=['platform', 'ip_addr', 'audiobook_title', 'audiobook_uri', 'audiobook_chapter_uri', 'audiobook_chapter_title', 'offline', 'offline_timestamp'])\n",
    "complete = complete.rename(columns={'ts':'exact_time', 'ms_played':'milliseconds', 'conn_country':'country','master_metadata_track_name':'track_name',\t'master_metadata_album_artist_name':'artist_name','master_metadata_album_album_name':'album_name', 'spotify_track_uri':'track_uri', 'episode_name':'episode_name','episode_show_name':'show_name', 'spotify_episode_uri':'episode_uri','reason_start':'start_reason','reason_end':'end_reason','incognito_mode':'incognito'})\n",
    "\n",
    "#convert ms to minutes\n",
    "complete['minutes'] = complete['milliseconds']/60000\n",
    "#extract specific times\n",
    "complete['exact_time'] = pd.to_datetime(complete['exact_time'])\n",
    "complete['hour'] = complete['exact_time'].dt.hour\n",
    "complete['day'] = complete['exact_time'].dt.date\n",
    "complete['month'] = complete['exact_time'].dt.month\n",
    "complete['weekday'] = complete['exact_time'].dt.weekday\n",
    "complete['year'] = complete['exact_time'].dt.year\n",
    "\n",
    "complete.head() # complete['year'] = complete['year'].dt.year\n"
   ]
  },
  {
   "cell_type": "markdown",
   "id": "689cab8f",
   "metadata": {},
   "source": [
    "Split Tracks and Episodes"
   ]
  },
  {
   "cell_type": "code",
   "execution_count": 4,
   "id": "c96605a7",
   "metadata": {},
   "outputs": [
    {
     "name": "stdout",
     "output_type": "stream",
     "text": [
      "616\n",
      "304945\n",
      "305562\n"
     ]
    }
   ],
   "source": [
    "#Split up dataframe into tracks and episodes/podcasts\n",
    "\n",
    "episodes = complete[complete['episode_name'].notnull()] #save rows where there's an episodeName\n",
    "tracks = complete[complete['track_name'].notnull()] #save rows where there's a trackName\n",
    "print(len(episodes))\n",
    "print(len(tracks))\n",
    "print(len(complete))\n",
    "#tracks = complete[~complete['trackName'].notnull()]\n",
    "\n"
   ]
  },
  {
   "cell_type": "markdown",
   "id": "c1fd5fa5",
   "metadata": {},
   "source": [
    "Store all rows with unique artists"
   ]
  },
  {
   "cell_type": "code",
   "execution_count": 5,
   "id": "e9966cca",
   "metadata": {},
   "outputs": [
    {
     "name": "stdout",
     "output_type": "stream",
     "text": [
      "5254\n",
      "46355142896741e6aeb23664375a1a2c\n"
     ]
    }
   ],
   "source": [
    "import spotipy\n",
    "from spotipy.oauth2 import SpotifyClientCredentials\n",
    "import time\n",
    "from dotenv import load_dotenv\n",
    "import os\n",
    "client_id = os.getenv('client_id')\n",
    "client_secret = os.getenv('client_secret')\n",
    "sp = spotipy.Spotify(auth_manager=SpotifyClientCredentials(client_id=client_id, client_secret=client_secret))\n",
    "#only keep unique artists\n",
    "uniqueArtists = tracks.drop_duplicates(subset=['artist_name'])\n",
    "\n",
    "print(len(uniqueArtists))\n",
    "print(os.getenv('client_id'))\n",
    "\n"
   ]
  },
  {
   "cell_type": "markdown",
   "id": "0a5543f7",
   "metadata": {},
   "source": [
    "Connect to PostgreSQL DB"
   ]
  },
  {
   "cell_type": "code",
   "execution_count": null,
   "id": "5503bc94",
   "metadata": {},
   "outputs": [],
   "source": [
    "\n",
    "# from sqlalchemy import create_engine\n",
    "# from sqlalchemy import inspect\n",
    "# import psycopg2\n",
    "\n",
    "#  #connection to postgres db\n",
    "# conn_string = 'postgresql://postgres:' + os.getenv('postgres_pass')  + '@localhost:' + os.getenv('postgres_port') + '/Spotify'\n",
    "# db = create_engine(conn_string)\n",
    "# #validate if connection works\n",
    "# inspector = inspect(db)\n",
    "# print(inspector.get_table_names(schema='public'))\n",
    "# conn = db.connect()\n",
    "\n",
    "\n",
    "\n",
    "\n"
   ]
  },
  {
   "cell_type": "markdown",
   "id": "1182ff81",
   "metadata": {},
   "source": [
    "Populate table in postgres with track history"
   ]
  },
  {
   "cell_type": "code",
   "execution_count": null,
   "id": "e3d31897",
   "metadata": {},
   "outputs": [],
   "source": [
    "\n",
    "# #Transfer tracks rows to sql table trackhistory\n",
    "# tracks.to_sql('trackhistory', con=conn, if_exists='replace', index=False)\n",
    "# #Validate rows\n",
    "# print(pd.read_sql(\"SELECT COUNT(*) FROM trackhistory;\", con=engine))\n",
    "\n",
    "\n"
   ]
  },
  {
   "cell_type": "markdown",
   "id": "3de274e4",
   "metadata": {},
   "source": []
  },
  {
   "cell_type": "code",
   "execution_count": 23,
   "id": "a7f6c888",
   "metadata": {},
   "outputs": [
    {
     "name": "stdout",
     "output_type": "stream",
     "text": [
      "6\n"
     ]
    },
    {
     "name": "stderr",
     "output_type": "stream",
     "text": [
      "c:\\Users\\sydne\\anaconda3\\envs\\spotify-analysis\\Lib\\site-packages\\numpy\\core\\fromnumeric.py:59: FutureWarning: 'DataFrame.swapaxes' is deprecated and will be removed in a future version. Please use 'DataFrame.transpose' instead.\n",
      "  return bound(*args, **kwds)\n"
     ]
    }
   ],
   "source": [
    "# import time\n",
    "import numpy as np\n",
    "artistGenre = {}\n",
    "\n",
    "# #Extract all unique artist IDs and save in list\n",
    "# artist_ids = []\n",
    "# for t in uniqueArtists['track_uri']:\n",
    "#     try:\n",
    "#         trackInfo = sp.track(t)\n",
    "#         artist = trackInfo['artists'][0]\n",
    "#         if artist['id'] not in artist_ids:\n",
    "#             artist_ids.append(artist['id'])\n",
    "#     except Exception as e:\n",
    "#         print(e)\n",
    "\n",
    "# #Fetch artists in batches of 50\n",
    "# batch_size = 50\n",
    "# for i in range(0, len(artist_ids), batch_size):\n",
    "#     batch = artist_ids[i:i + batch_size]\n",
    "#     try:\n",
    "#         # Batch request\n",
    "#         artists_data = sp.artists(batch)['artists']\n",
    "#         for a in artists_data:\n",
    "#             name = a['name']\n",
    "#             genres = a.get('genres', [])\n",
    "#             artistGenre[name] = genres\n",
    "\n",
    "#         #Small buffer to stay under rate limit\n",
    "#         time.sleep(0.2)\n",
    "#     except Exception as e:\n",
    "#         print(f\"Error fetching batch starting at index {i}: {e}\")\n",
    "#         time.sleep(5)\n",
    "#         continue\n",
    "\n",
    "uniqueArtistsSplit = np.array_split(uniqueArtists, 6)\n",
    "print(len(uniqueArtistsSplit))\n",
    "\n",
    "\n",
    "\n",
    "\n",
    "\n"
   ]
  },
  {
   "cell_type": "markdown",
   "id": "190f7e9f",
   "metadata": {},
   "source": []
  },
  {
   "cell_type": "code",
   "execution_count": null,
   "id": "a0237225",
   "metadata": {},
   "outputs": [
    {
     "name": "stdout",
     "output_type": "stream",
     "text": [
      "2\n"
     ]
    },
    {
     "name": "stderr",
     "output_type": "stream",
     "text": [
      "WARNING:root:Your application has reached a rate/request limit. Retry will occur after: 84616\n"
     ]
    }
   ],
   "source": [
    "\n",
    "\n",
    "# trackInfo = sp.track(\"spotify:track:50a8bKqlwDEqeiEknrzkTO\") #Get spotify trackinfo\n",
    "# artist = trackInfo['artists'][0] \n",
    "# artistID = artist['id'] #Get artist ID from artist objet\n",
    "# genres =  sp.artist(artistID)['genres'] #Get genre(s) of artists\n",
    "# print(genres)\n",
    "#Dict to map artist with genres\n",
    "\n",
    "for t in uniqueArtistsSplit[2]['track_uri']:\n",
    "    try: \n",
    "        trackInfo = sp.track(t) #Get spotify trackinfo\n",
    "        artist = trackInfo['artists'][0] \n",
    "        artistID = artist['id'] #Get artist ID from artist objet\n",
    "        genres =  sp.artist(artistID)['genres'] #Get genre(s) of artists\n",
    "        if artist['name'] not in artistGenre:\n",
    "            artistGenre[artist['name']] = genres\n",
    "        time.sleep(0.1)\n",
    "    except Exception as e: #If artist is invalid print error  ``\n",
    "        print(e)\n",
    "        continue\n",
    "\n",
    "\n",
    "print(len(artistGenre))\n",
    "\n",
    "\n",
    "# #print(top)\n",
    "# # print(client_id)\n",
    "# # print(client_secret)"
   ]
  },
  {
   "cell_type": "markdown",
   "id": "8068dd9e",
   "metadata": {},
   "source": []
  },
  {
   "cell_type": "code",
   "execution_count": null,
   "id": "a3406221",
   "metadata": {},
   "outputs": [
    {
     "name": "stdout",
     "output_type": "stream",
     "text": [
      "{'$NOT': [], 'Josh Turner': ['country', 'christian country'], 'Luke Combs': ['country'], 'Drew Holcomb & The Neighbors': ['christian folk'], 'Dylan Scott': ['country'], 'Elton John': [], 'Jordan Smith': ['christmas'], 'Chicago': ['yacht rock', 'soft rock'], 'Caroline Glaser': ['folk pop'], 'Cassadee Pope': [], 'Chris Jamison': [], 'Deanna Johnson': [], 'Big Boss Vette': [], 'Benny Benassi': ['electro house'], 'JP Saxe': [], 'Ashe': [], 'Jake Miller': [], 'The Cinematic Orchestra': ['nu jazz', 'downtempo'], 'Kina': [], 'TELYKAST': [], 'Ir Sais': ['kizomba'], 'Dennis Kruissen': [], 'Jordin Sparks': [], 'Princess Nokia': [], 'Mighty Bay': [], 'King Critical': [], 'John Newman': [], 'potsu': ['lo-fi'], 'Maxine Nightingale': [], 'The Lonely Island': ['comedy'], 'Bobby Darin': ['big band', 'adult standards', 'swing music', 'doo-wop'], 'The Beatles': ['classic rock', 'psychedelic rock'], 'Tears For Fears': ['new wave', 'synthpop'], 'Backstreet Boys': [], 'Oasis': ['britpop', 'madchester'], '*NSYNC': [], 'Glee Cast': ['christmas'], 'Lewis Tru': ['christian hip hop'], 'Bebe Rexha': [], 'James Arthur': ['soft pop'], 'Mario': ['r&b'], 'Sam Hunt': ['country', 'pop country'], 'Jocelyn Alice': [], 'Nick Jonas': [], 'Beyoncé': [], 'August Alsina': ['r&b'], 'yaeow': [], 'RAYE': [], 'Gabrielle Aplin': [], 'StreamBeats by Harris Heller': ['lo-fi', 'synthwave'], 'Weezer': ['alternative rock'], 'Thom Yorke': [], 'Gorillaz': [], 'BTS': ['k-pop'], 'Marshmello': ['edm'], 'Maggie Lindemann': [], 'IDK': [], 'NGeeYL': [], 'CHIKA': ['alternative r&b'], 'Gwen Stefani': [], 'Samm Henshaw': [], 'Gavin Haley': [], 'THE ANXIETY': [], 'Ava Max': [], 'Scorey': ['melodic rap'], 'Bastille': [], 'Tame Impala': ['neo-psychedelic', 'indie'], 'PinkPantheress': ['bedroom pop'], 'Nirvana': ['grunge', 'rock'], 'MAD SNAX': ['slap house'], 'Jena Rose': [], 'Tesher': [], 'SOMMA': ['deep house', 'afro house'], 'Cochise': ['rage rap'], 'Alfons': ['epadunk', 'melbourne bounce'], 'Raaban': [], 'Emotional Oranges': ['indie r&b'], 'Yohan Gerber': ['slap house'], 'Alex Alexander': ['tropical house'], 'Reyanna Maria': [], 'Måneskin': [], 'Trinidad Cardona': [], 'Bella Poarch': [], 'NATTI NATASHA': ['reggaeton', 'latin', 'urbano latino', 'bachata'], 'Sally Sossa': [], 'Bas': [], 'Rexx Life Raj': [], 'Kota the Friend': [], '$ilkMoney': [], 'The Game': ['west coast hip hop', 'gangster rap', 'hip hop'], 'T.I.': ['southern hip hop'], 'Ying Yang Twins': ['crunk', 'southern hip hop'], 'Ty Dolla $ign': ['trap soul'], 'Elderbrook': [], 'Jibbs': ['crunk'], 'Teriyaki Boyz': [], 'Master KG': ['amapiano', 'gqom', 'afrobeats'], 'Eiffel 65': ['eurodance', 'europop', 'italo dance'], 'Lukas Graham': ['dansk pop'], 'Whitney Houston': [], 'Shaggy': ['reggae'], 'Vanessa Carlton': [], 'Green Day': ['punk', 'pop punk'], 'Cyndi Lauper': [], 'Jidenna': [], 'Fifth Harmony': [], 'Lewis Capaldi': ['soft pop'], 'Toosii': [], 'tapzmods': [], 'Dan + Shay': ['country'], 'JADE MOSS': [], 'Band of Silver': [], 'PLVTINUM': ['dark r&b'], 'Olly Murs': [], 'Dancody': [], 'Jay Copes': [], \"The B-52's\": ['new wave', 'post-punk'], 'Flo Gallop': [], 'A!MS': [], 'Kyle The Hooligan': [], 'Johnny Icon': [], 'SAYGRACE': [], 'Galantis': [], 'Joel Corry': ['dance pop'], 'Ozuna': ['reggaeton', 'trap latino', 'latin', 'urbano latino'], 'Josefine': [], 'vaultboy': [], 'Sami Thompson': [], '45 PESO': [], 'Black Caviar': [], 'Manic Drive': ['cedm', 'christian pop', 'christian rock', 'christian alternative rock', 'christian'], 'Morris Madrone': [], 'Karin Ann': [], 'Yung Pooda': [], 'City Rominiecki': [], 'J.W. Cudd': [], 'Steve Reason': ['afro house'], 'Naeleck': ['electro house', 'hypertechno'], 'Elle King': [], 'Evan Crommett': [], 'PETER LAKE': [], 'Raiigh': [], 'UNSECRET': [], 'Felicia Lu': [], 'Mr. Probz': [], 'gnash': [], 'Karmin': [], 'Gavin DeGraw': [], 'The Fray': [], 'The Killers': ['alternative rock'], 'GROUPLOVE': ['indie'], 'Sheppard': [], 'Natasha Bedingfield': [], 'Snow Patrol': [], 'La Roux': [], 'Martin Solveig': ['french house'], 'MGMT': ['indie'], 'Keane': [], 'Bad Meets Evil': [], 'Linkin Park': ['nu metal', 'rap metal', 'rock', 'alternative metal'], 'Anthem Lights': [], 'MidnightDrives': [], 'omgkirby': [], 'Colbie Caillat': [], 'Metro Station': [], 'Jonas Brothers': [], 'Jack Ü': [], 'George Ezra': [], 'Daniel Powter': [], 'Corinne Bailey Rae': [], 'Leona Lewis': [], 'Alesso': ['edm'], 'aghast': ['hyperpop'], 'Grateful Dead': ['jam band', 'psychedelic rock', 'acid rock'], 'The Rolling Stones': ['classic rock', 'rock'], 'Sticky Fingers': ['surf rock'], 'Aerosmith': ['classic rock', 'rock'], 'Angèle Dubeau': ['classical', 'minimalism'], 'The Notorious B.I.G.': ['old school hip hop', 'gangster rap', 'east coast hip hop', 'hip hop'], 'Matoma': ['tropical house'], 'Solange': ['alternative r&b', 'neo soul'], 'Tonight Alive': ['pop punk'], 'Adam Hicks': [], 'Naomi Scott': [], 'Cast Of Camp Rock': [], 'Zac Efron': ['musicals'], 'Austin Moon': [], 'Christina Milian': [], 'Olivia Holt': [], 'Cast - Liv and Maddie': [], 'Zendaya': [], 'Forever in Your Mind': [], 'Victorious Cast': [], 'Bowling For Soup': ['pop punk', 'punk'], 'Andi Mack': [], 'Kevin Quinn': ['christian', 'christian pop'], 'Miranda Cosgrove': [], 'China Anne McClain': [], 'Debby Ryan': [], 'Bella Thorne': [], 'Rowan Blanchard': [], 'Troy': [], 'High School Musical Cast': [], 'TV Theme Band': [], 'Franklin the Turtle': [], 'The Wiggles': [\"children's music\", 'lullaby'], 'TV Tunesters': [], 'KEVVO': ['reggaeton'], 'Gladys Knight & The Pips': ['motown', 'classic soul', 'soul', 'northern soul'], 'Witt Lowry': [], 'R. Kelly': ['r&b'], 'Earth, Wind & Fire': ['funk', 'disco'], \"Quad City DJ's\": ['miami bass'], 'Radical Face': ['indie folk'], 'Grover Washington, Jr.': ['soul jazz', 'smooth jazz'], 'OMC': [], 'Dreamer Isioma': ['alternative r&b'], 'BBY KODIE': [], 'Ricky Dillard & New G': ['gospel', 'worship'], 'Mr_hotspot': [], 'Strawberry Guy': ['bedroom pop'], 'Aly & AJ': [], 'Erica Banks': [], 'Baby Tate': [], 'Ryn Weaver': [], 'Shy Glizzy': [], 'love shayla': [], 'DJ Chose': [], 'Yo Gotti': ['southern hip hop'], 'Duomo': [], 'Kungs': [], 'Phoebe Bridgers': [], 'Ori Rose': [], 'Bon Iver': [], 'boy pablo': ['bedroom pop'], 'Rah Swish': ['brooklyn drill', 'new york drill', 'drill'], 'keshi': [], 'Glass Animals': [], 'Empire Of The Sun': [], '88rising': [], 'Samsa': [], 'Zen.': [], 'Joji': [], 'ABRA': ['alternative r&b'], 'Zac Brown Band': ['country', 'acoustic country'], 'HONNE': [], 'MONSTA X': ['k-pop', 'noise music'], 'Eyedress': [], 'Love Regenerator': [], 'Ambar Lucid': ['latin indie', 'bedroom pop'], 'khai dreams': [], 'Tevvez': ['hardstyle'], 'iKON': ['k-pop'], 'Lil Tjay ft Tj Porter': [], 'NEIKED': [], '23 Unofficial': ['afroswing', 'grime', 'uk grime', 'uk r&b'], '6LACK': [], 'Gyptian': ['dancehall', 'reggae', 'soca', 'lovers rock', 'ragga'], 'Nafe Smallz': ['grime', 'uk grime', 'afroswing'], 'lil ricefield': [], 'Anatolian Sessions': ['organic house', 'tribal house'], '天音かなた': [], 'All Time Low': ['pop punk', 'emo', 'punk'], 'GAYLE': [], 'DREAMERS': [], 'jxdn': ['pop punk'], 'YUNGBLUD': [], 'Oliver Tree': [], 'renforshort': [], 'Bishop Nehru': [], 'JERREAU': [], 'Angel The God': [], 'BANNERS': [], 'Wayfarers': [], 'Christian Leave': [], 'Etta James': ['soul', 'jazz blues', 'soul blues', 'blues', 'vocal jazz'], 'Kodaline': [], \"j'san\": ['lo-fi', 'lo-fi beats', 'lo-fi hip hop'], 'boyhood.': [], 'badly': [], 'Ricky Montgomery': [], 'Kuwada': [], 'A-Wall': ['bedroom pop'], 'guardin': ['emo rap'], 'nbmusic': [], 'Brent Faiyaz': ['r&b'], 'Skyler Wind': [], 'Johnny Orlando': [], 'KIAN': [], 'John K': [], 'prxz': ['lo-fi'], 'Ruel': [], 'grentperez': [], 'Tai Verdes': [], 'Tom Walker': [], 'Alexander 23': [], 'Julia Michaels': [], 'Dean Lewis': [], 'Skylar Simone': [], 'James Blunt': [], 'AURORA': ['norwegian pop', 'art pop'], 'Mark Mendy': [], 'JP Cooper': [], 'Omar Apollo': ['bedroom pop'], 'Freya Ridings': [], 'MAX': [], 'Calum Scott': ['soft pop'], 'Joel Adams': [], 'Noah Kahan': [], 'Forrest.': [], 'DEAN': ['k-rap', 'k-pop'], 'Saint Motel': [], 'たかやん': ['j-pop', 'j-rap', 'japanese indie'], 'Scissor Sisters': [], 'Studio Killers': [], 'Sage The Gemini': ['hyphy'], 'The Good Husbands': [], 'Nabes': [], 'Ocean Park Standoff': [], 'Holy Mattress Money': [], 'Jonny Glenn': [], 'Burna Boy': ['afrobeats', 'afrobeat', 'afropop', 'afroswing', 'dancehall', 'afropiano'], 'Kid Quill': [], 'Hoodie Allen': [], 'Jonah Renna': [], 'Shoffy': [], 'Luke Christopher': [], 'Bryce Vine': [], 'MILES': [], 'Bazanji': [], 'Brendan Bennett': [], 'Kurt Hugo Schneider': [], 'The Wombats': ['indie'], 'WizTheMc': [], 'COIN': [], 'Grady': [], 'Blake and Miles': [], 'almost monday': [], 'Peach Tree Rascals': [], 'ROLE MODEL': ['bedroom pop'], 'Ritt Momney': ['bedroom pop'], 'Soran': [], 'Ruth B.': [], 'Rence': [], 'Dayglow': ['indie rock'], 'david hugo': [], 'Bazzi vs.': [], 'Ūla': [], 'HARBOUR': [], 'New Rules': [], 'Joshua Bassett': [], 'JK Jones': [], 'LAUNDRY DAY': ['bedroom pop'], \"The Mowgli's\": [], 'Paycheck': [], 'KAYDEN': [], 'Val Fritz': [], 'young friend': [], 'Blanks': [], 'Kid Travis': [], 'THE DRIVER ERA': [], 'New Parlor': [], 'Sarcastic Sounds': ['lo-fi'], 'Conan Gray': [], 'NVTHVN': [], 'Rory Webley': [], 'New Friends': [], 'Sneaky Peaches and the Fuzz': [], 'Lui Joseph': [], 'Thomas Headon': [], 'Valley': [], 'Ellie Williams': [], 'sammy rash': [], 'The Wldlfe': [], 'nodisco.': [], 'Slush Puppy': [], 'Aidan Bissett': [], 'JayXander': [], 'Soul Fro': [], 'Nic D': [], 'Free Arlo': [], 'Sam Soto': [], 'Don Diablo': ['future house', 'edm'], 'Alexa Cappelli': [], \"Why Don't We\": [], 'JVKE': [], 'Hannah Montana': [], 'sam.sts': ['bedroom pop'], 'Jacob Noah': [], 'Kenny Elrod': [], 'Maude Latour': ['indie pop'], 'G Flip': [], 'KiD RAiN': [], 'Arden Jones': [], 'Sara Kays': [], 'Christian French': [], 'Ryan Woods': [], 'papichuloteej': [], 'Early Eyes': [], 'Satchy': [], 'No Vacation': ['bedroom pop', 'dream pop'], 'Current Joys': ['lo-fi indie'], 'The Walters': [], 'Good Morning': ['lo-fi indie', 'bedroom pop'], 'Men I Trust': ['bedroom pop', 'indie pop'], 'Clarence James': [], 'Kuzu Mellow': [], 'Ollie MN': [], 'Frances Forever': ['bedroom pop'], 'TEMPOREX': ['bedroom pop'], 'Vampire Weekend': ['indie', 'baroque pop'], 'Gus Dapperton': ['bedroom pop'], 'Dream, Ivory': [], 'carpetgarden': [], 'Odd Sweetheart': [], 'Yot Club': ['bedroom pop'], 'Memo Boy': [], 'Summer Salt': [], 'Bad Suns': [], 'Vacations': [], 'Grouper': ['drone', 'slowcore', 'ambient', 'dream pop'], 'Beach House': ['dream pop'], 'TV Girl': [], 'The Memories': [], 'Banes World': ['bedroom pop', 'lo-fi indie'], 'Staffan Carlén': [], 'Joy Again': [], 'Steve Lacy': [], 'dsiboys': [], 'Worn-Tin': [], 'Mitski': [], 'Jake Scott': [], 'Luke Benward': [], 'Scarlet Drive': [], 'marcos g': [], 'Hudson Thames': [], 'Half the Animal': [], 'Lexi Jayde': [], 'Goody Grace': [], 'Ben Chandler': [], 'Silver Warehouse': [], 'The Millennial Club': [], 'Cherry Pools': [], 'Chase Atlantic': [], 'Crash Adams': [], \"Olivia O'Brien\": [], 'The True Blue': [], 'The Wrecks': [], 'The Band CAMINO': [], 'Gold Revere': [], 'Jack House': ['hyperpop', 'glitch'], 'Chris Wallace': [], 'Will Joseph Cook': [], 'OK Houston': [], 'Christopher Fitzgerald': ['musicals'], 'awfultune': [], 'The Boy from the South': [], 'Jan Metternich': [], 'sundial': [], 'CKay': ['afrobeats', 'afrobeat', 'afro r&b', 'afropop'], 'Gavin James': [], 'Ron Pope': [], 'Jack & Jack': [], 'Queen': ['classic rock', 'rock', 'glam rock'], 'Lord Huron': [], 'Alex & Sierra': [], 'Noah Cyrus': [], 'Bright Eyes': ['indie folk'], 'Kate Brunotts': ['ballroom vogue'], 'Jack Rasmussen': [], 'Presley River': [], 'RAMES': [], 'DENIO': [], 'Lady Silver': [], 'Ries Brothers': ['reggae rock', 'modern blues'], 'THE JACKS': [], 'THREE OF THE FIVE': [], 'The Rills': [], 'Cat Power': ['slowcore', 'singer-songwriter'], 'The Wannadies': ['britpop'], 'The Kooks': ['indie', 'indie rock'], 'King No-One': [], 'Mumm-ra': [], 'Sinplus': [], 'Single By Sunday': [], 'Local Nomad': [], 'Bits in Pockets': [], 'Jack Johnson': ['surf rock'], 'Sufjan Stevens': ['baroque pop'], 'Arctic Monkeys': ['indie', 'garage rock'], 'Florence + The Machine': ['baroque pop'], 'Drawing Room': [], 'The Mercy Stone': [], 'Tom Odell': [], 'telco': ['indie folk'], \"Lil' Troy\": ['southern hip hop'], 'Tione Jayden': [], 'Puzzle': [], 'Gabriela Bee': [], 'Alec Benjamin': [], 'Declan McKenna': [], 'Ryan Beatty': [], 'D-Block Europe': ['grime', 'uk drill'], 'Doe Boy': [], 'LilJJ': [], 'Mitch James': [], 'Dominic Fike': [], 'Current Blue': ['bedroom pop'], 'atlas': [], 'Kaz Moon': [], 'HUNNY': ['indie pop'], 'Atwood': [], 'Bennett Coast': [], 'HOAX': [], 'Your Neighbors': [], 'Marc Wavy': [], 'Forrest Nolan': ['bedroom pop'], 'Jelani Aryeh': [], 'Ryan Leahan': [], 'X Lovers': [], 'Ian Hugel': [], 'The Ugly Boys': [], 'Beach Weather': [], 'Fiji Blue': [], 'Luke Bryan': ['country', 'acoustic country'], 'Robyn Ottolini': [], 'Lee Brice': ['country', 'acoustic country'], 'John Denver': ['folk'], 'Jason Aldean': ['country', 'acoustic country'], 'Dierks Bentley': ['country'], 'Diplo': ['moombahton'], 'Gabby Barrett': ['country'], 'Chris Stapleton': ['country', 'outlaw country'], 'Mr. Gun': [], 'Brett Young': ['country'], 'Cole Gallagher': [], 'The Macarons Project': [], 'Mikaela Astel': [], 'Regina Love': [], 'Keith Urban': ['country'], 'Darius Rucker': ['country'], 'Shania Twain': ['country'], 'Kid Rock': [], 'Thomas Rhett': ['country', 'acoustic country', 'pop country'], 'Alan Jackson': ['country', 'christian country', 'classic country'], 'Brad Paisley': ['country'], 'Lady A': ['country', 'pop country'], 'Steve Earle': ['alt country', 'outlaw country', 'americana', 'country rock'], 'Little Big Town': ['country'], 'Midland': ['country', 'honky tonk'], 'Blake Shelton': ['country'], 'Dustin Lynch': ['country', 'acoustic country'], 'Morgan Wallen': ['country'], 'Billy Currington': ['country', 'acoustic country'], 'Chris Janson': ['country'], 'LANCO': ['country'], 'Aaron Lewis': ['outlaw country', 'country'], 'Jimmy Buffett': [], 'Nitty Gritty Dirt Band': ['bluegrass', 'country rock', 'country', 'classic country'], 'Jake Owen': ['country', 'acoustic country'], 'Kenny Chesney': ['country'], 'Big & Rich': ['country'], 'Travis Tritt': ['classic country', 'country', 'outlaw country', 'traditional country'], 'Uncle Kracker': [], 'The Deep Dixie Boys': [], 'Brooks Jefferson': ['country', 'classic country'], 'Cash Cash': ['edm'], 'Tim McGraw': ['country', 'classic country'], 'Brantley Gilbert': ['country', 'country rock', 'country hip hop', 'acoustic country'], 'Frankie Ballard': ['country', 'acoustic country'], 'BRELAND': ['country', 'country hip hop'], 'Hunter Hayes': ['country'], 'Eric Church': ['country', 'acoustic country'], 'Trailer Choir': ['country hip hop'], 'Waylon Jennings': ['outlaw country', 'classic country', 'country', 'honky tonk', 'traditional country'], 'Jerrod Niemann': ['country', 'acoustic country'], 'Granger Smith': ['country', 'texas country', 'red dirt', 'country hip hop', 'acoustic country'], 'Darryl Worley': ['country'], 'Rodney Atkins': ['country', 'acoustic country'], 'Mary J. Blige': ['r&b'], 'offonoff': ['k-rap'], 'Matt Maltese': [], 'fern': [], 'Nardo Wick': [], 'Journey': ['aor', 'classic rock'], 'Radiohead': ['art rock', 'alternative rock'], 'Freddie Mercury': [], 'LISA': ['k-pop'], 'Louis The Child': [], 'Peach Pit': [], 'jagger finn': [], 'Cage The Elephant': [], 'Dre A.M.': [], 'The Big 80s Guys': [], 'Joe \"Bean\" Esposito': [], 'Beach Fossils': ['dream pop', 'surf rock', 'shoegaze'], 'Peter McPoland': [], 'Tim Hicks': ['country'], 'Take Me To Your Best Friends House': [], 'Skylar Grey': [], 'The Highwaymen': ['outlaw country', 'classic country', 'country'], 'Rocco DeLuca': [], \"D'Angelo\": ['neo soul'], 'So Far So Good': [], 'Diamond Rio': ['classic country', 'country'], 'Cole Swindell': ['country', 'acoustic country'], 'Cannon': [], 'Culture Jam': [], 'Briston Maroney': [], 'Crisaunt': ['bedroom pop'], 'Crumb': ['neo-psychedelic', 'bedroom pop'], 'JAWNY': ['bedroom pop'], 'Blxst': [], 'Tobias Dray': [], 'MARINA': [], 'Ingrid Michaelson': [], 'Jake Banfield': [], 'Maddie Zahm': [], 'Phil Good': [], 'Brooke Alexx': [], 'Jacob Sigman': [], 'Paravi': [], 'Dove Cameron': [], 'William Hinson': [], 'Michael Cera': [], 'Kevin Walkman': [], 'The Frights': ['surf rock', 'garage rock'], 'Christopher Jackson': ['musicals'], 'Colony House': [], 'DeJ Loaf': [], 'Larry June': [], 'Daryl Hall & John Oates': ['yacht rock', 'soft rock'], 'Weston Estate': [], \"Her's\": ['indie'], 'Ghostland Observatory': [], 'GIVĒON': ['r&b'], 'Kmo': [], 'Pink Floyd': ['progressive rock', 'psychedelic rock', 'classic rock', 'art rock', 'rock'], 'Duckwrth': [], 'Mohombi': [], 'Juan Magán': ['reggaeton', 'latin'], 'Mr. P': ['afrobeats', 'afrobeat', 'afropop'], 'Chri$tian Gate$': [], 'Lucus': [], 'Kidd G': ['country hip hop', 'country'], 'The Rare Occasions': [], 'Lonr.': [], 'Kamaiyah': ['hyphy'], 'Mak Sauce': [], 'iLL Wayno': [], 'King Staccz': [], 'Ava MakeBelieve': [], 'Likybo': [], 'Cookiee Kawaii': ['jersey club', 'baltimore club', 'ballroom vogue'], 'Dominic Cooper': ['musicals'], 'Mary Mary': ['gospel', 'gospel r&b'], 'Cigarettes After Sex': ['dream pop'], 'LMB DG': [], 'Wizkid': ['afrobeats', 'afrobeat', 'afropop', 'azonto', 'afroswing', 'afro r&b', 'afropiano'], 'Zanski': [], 'TWICE': ['k-pop'], 'BLACKPINK': ['k-pop'], 'Johnny Cash': ['classic country', 'outlaw country', 'country'], 'Céline Dion': ['variété française'], 'TracK V': [], 'Chitose Morinaga': [], 'Epic Rap Battles of History': ['comedy'], 'PENTAGON': ['k-pop'], 'Red Velvet': ['k-pop'], 'DAY6': ['k-rock', 'k-pop'], '2 Chainz': ['southern hip hop', 'rap'], 'No Rome': [], 'Waterparks': ['pop punk'], 'Foo Fighters': ['rock', 'post-grunge', 'alternative rock', 'grunge'], 'Jimmy Eat World': ['emo', 'pop punk'], 'blink-182': ['pop punk', 'punk', 'rock', 'skate punk', 'emo'], 'Bruno Major': [], 'Betcha': [], 'Cassidi': [], 'Macklemore': [], 'Surf Curse': ['indie'], 'The Japanese House': [], 'Mother Mother': [], 'The Struts': ['glam rock'], 'Vundabar': [], 'Local Natives': [], 'SkullKidd': ['midwest emo'], 'Offset': [], 'DPR LIVE': ['k-rap'], 'Chelsea Cutler': [], 'Carrie Underwood': ['country'], 'H2O Hadd': [], 'Bryson Tiller': ['trap soul', 'r&b'], 'Madison Beer': [], '1990nowhere': [], 'Mind’s Eye': [], 'love-sadKID': [], 'Brendan': [], 'Gaeko': ['k-rap'], 'Miso': [], 'Gaho': ['soundtrack'], 'SHIGEO SEKITO': ['jazz fusion'], 'SEGA SOUND TEAM': ['japanese vgm', 'soundtrack'], 'Michael Bublé': ['christmas'], 'Clubhouse': [], 'pH-1': ['k-rap'], 'RM': ['k-pop', 'k-rap'], 'Hott Headzz': [], 'Kofi': [], 'AJ Mitchell': [], 'NO1-NOAH': ['trap soul'], 'SHY!': [], 'Courtney Santana': [], '4Fargo': [], 'SoMo': [], 'MICO': [], 'JOEY DJIA': [], 'Bobby Helms': ['christmas', 'villancicos'], 'Wham!': ['christmas'], 'Brian McKnight Jr.': [], 'Tori Kelly': [], 'Pentatonix': ['christmas'], 'Band Aid': ['christmas'], 'Jay Park': ['k-rap', 'k-pop'], 'Hoody': ['k-rap'], 'NCT U': ['k-pop', 'noise music'], 'TOMORROW X TOGETHER': ['k-pop'], 'Troye Sivan': [], 'HYUKOH': ['k-rock', 'k-ballad'], 'kelseydog': [], 'toastool': [], 'Alex G': [], 'cupcakKe': [], 'B-Lovee': ['new york drill', 'drill', 'brooklyn drill', 'sexy drill'], 'LulJaime': [], 'Yeat': ['rage rap'], 'SOLE': ['k-rap'], 'BIGBANG': ['k-pop'], 'BOL4': ['k-pop', 'k-ballad'], 'Ricky Martin': ['latin pop', 'latin'], 'brb.': [], 'TAEMIN': ['k-pop'], 'bbno$': [], 'Illijah': [], 'Scary Pockets': ['funk', 'retro soul'], 'Touliver': ['v-pop', 'vietnamese hip hop', 'vinahouse', 'vietnam indie'], 'Rancid Eddie': [], 'Curlybamm': [], '3xbravo': [], 'Bryce Xavier': [], 'Dryboy': [], 'B.O.G Rell': [], 'Belly': [], 'NF': ['christian hip hop'], 'Elko': ['emo rap'], 'Earthquake Lights': [], 'Dario Lessing': ['lo-fi'], 'Ivan B': [], 'ODESZA': ['chillwave', 'chillstep'], 'XYLØ': [], 'Saib': ['lo-fi', 'lo-fi beats', 'jazz house', 'lo-fi hip hop', 'jazz beats'], 'Shaun D': [], 'Passion Pit': ['indie'], 'Stephen': [], 'Low Hum': [], 'LUCKY TAPES': ['japanese indie', 'j-r&b', 'city pop', 'j-pop'], 'Stray Kids': ['k-pop', 'noise music'], 'STAYC': ['k-pop'], 'Dro Kenji': ['melodic rap', 'emo rap'], 'NCT 2021': ['k-pop'], '1TEAM': ['k-pop'], 'NCT DREAM': ['k-pop', 'noise music'], 'ENHYPEN': ['k-pop'], \"BE'O\": ['k-rap'], 'ZICO': ['k-rap', 'k-pop'], 'ITZY': ['k-pop'], 'JEON SOMI': ['k-pop'], 'NCT 127': ['k-pop', 'noise music'], 'P1Harmony': ['k-pop', 'noise music'], 'CHANYEOL': ['k-pop'], 'Weeekly': ['k-pop'], 'IZ*ONE': ['k-pop'], 'Jay Bezzy': ['brooklyn drill'], 'Hoobastank': ['nu metal'], 'Daniel Caesar': [], 'Loud Luxury': [], 'Raiden': [], 'JUNNY': ['k-rap'], 'HENRY': ['k-pop', 'k-ballad'], 'BAEKHYUN': ['k-pop', 'k-ballad'], 'Mooski': [], 'Rowdy Rebel': ['brooklyn drill', 'new york drill'], 'Rasandra': [], 'MIKE DEAN': [], 'EXO': ['k-pop'], 'EXO-K': ['k-pop'], 'TOMORO': [], 'Paper Route': ['christian rock', 'christian alternative rock'], 'Childish Major': [], 'Frisco': ['grime', 'uk grime'], 'King Krule': [], 'Mike Jones': ['southern hip hop', 'crunk'], 'Lee Bezel': [], 'Smoke DZA': [], 'JID': [], 'Jay Prince': [], 'Bad Bunny': ['reggaeton', 'trap latino', 'urbano latino', 'latin'], 'BLESSED': [], 'Campfire': [], 'Pardison Fontaine': [], 'Anonymuz': [], 'Fourtee': [], 'Dreezy': [], 'Run The Jewels': ['hip hop'], 'Pesukone': [], 'S productions': [], 'SongBot': [], 'Saba': [], 'The Vaccines': ['indie', 'indie rock'], 'Peter Bjorn and John': ['indie'], 'Hotel Ugly': [], 'BEAUTY SCHOOL DROPOUT': [], 'The Kinks': ['proto-punk', 'baroque pop'], 'Rhye': [], 'Kay Flock': ['new york drill', 'drill', 'brooklyn drill'], 'LilBuckss': [], 'Kehlani': [], 'Johnny Mathis': ['christmas'], 'Dean Martin': ['christmas', 'adult standards', 'big band', 'swing music'], 'Thurl Ravenscroft': ['christmas'], 'Bing Crosby': ['christmas'], 'HoodRich Pablo Juan': [], 'Tritonal': ['edm', 'progressive house', 'progressive trance'], 'Xavier Wulf': ['cloud rap', 'underground hip hop', 'emo rap'], 'Bass Santana': [], 'Bring Me The Horizon': ['metalcore', 'emo', 'screamo', 'rock', 'post-hardcore'], 'I Prevail': ['metalcore', 'metal'], 'GANK': [], 'astra!': [], '23drew$ki': [], 'Kunning Fox': [], 'Braxton Burks': ['orchestral'], 'Arcade Player': [], 'Tristan D. Perez': [], 'The Greatest Bits': [], 'Typhillosion': ['anime'], 'Pokémon': ['anime'], 'Chippy Bits': ['lo-fi'], 'HoopsandHipHop': ['lo-fi'], 'Walk off the Earth': [], 'Video Games Theme': [], 'insaneintherainmusic': ['jazz'], 'Darren Ang': [], 'Pokérus Project': ['lo-fi'], 'Collosia': ['lo-fi'], 'Jonathan Aldrich': [], 'A-bug': ['lo-fi'], 'Aries': [], 'Finn Askew': [], 'VÉRITÉ': [], 'The Alan Parsons Project': ['progressive rock', 'classic rock'], 'Scorpions': ['hard rock', 'glam metal', 'rock'], 'The Shelters': [], 'Eric B. & Rakim': ['old school hip hop', 'east coast hip hop', 'hip hop'], 'Cousin Stizz': [], 'Shy Luv': [], 'Onyx': ['east coast hip hop', 'hardcore hip hop', 'old school hip hop'], 'Linda Lind': [], 'Salmo': ['italian trap'], 'Take a Mic': ['french rap'], 'Roosevelt': ['nu disco'], 'ILLSON': ['k-rap'], 'Carlos Jean': [], 'EMoneyOne11': []}\n"
     ]
    }
   ],
   "source": [
    "print(artistGenre)\n",
    "theDict = pd.DataFrame(artistGenre.items(), columns=[\"artist\", \"genres\"])\n",
    "theDict = theDict.explode(\"genres\")\n",
    "theDict['genres'] = theDict['genres'].fillna(\"No Genre\")\n",
    "output = \"artistGenre.csv\"\n",
    "theDict.to_csv(output, mode ='a', header=False, index = False, encoding = \"utf-8\")\n",
    "\n",
    "\n",
    "\n"
   ]
  },
  {
   "cell_type": "code",
   "execution_count": null,
   "id": "90bb3770",
   "metadata": {},
   "outputs": [],
   "source": []
  }
 ],
 "metadata": {
  "kernelspec": {
   "display_name": "spotify-analysis",
   "language": "python",
   "name": "python3"
  },
  "language_info": {
   "codemirror_mode": {
    "name": "ipython",
    "version": 3
   },
   "file_extension": ".py",
   "mimetype": "text/x-python",
   "name": "python",
   "nbconvert_exporter": "python",
   "pygments_lexer": "ipython3",
   "version": "3.11.13"
  }
 },
 "nbformat": 4,
 "nbformat_minor": 5
}
