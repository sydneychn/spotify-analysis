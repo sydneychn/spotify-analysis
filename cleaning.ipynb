{
 "cells": [
  {
   "cell_type": "markdown",
   "id": "8e6bccb7",
   "metadata": {},
   "source": [
    "Combining All History JSON Files"
   ]
  },
  {
   "cell_type": "code",
   "execution_count": null,
   "id": "9c9af50e",
   "metadata": {},
   "outputs": [],
   "source": [
    "import pandas as pd\n",
    "\n",
    "#combining total history\n",
    "history0 = pd.read_json('syd0.json')\n",
    "history1 = pd.read_json('syd1.json')\n",
    "history2 = pd.read_json('syd2.json')\n",
    "history3 = pd.read_json('syd3.json')\n",
    "history4 = pd.read_json('syd4.json')\n",
    "history5 = pd.read_json('syd5.json')\n",
    "history6 = pd.read_json('syd6.json')\n",
    "history7 = pd.read_json('syd7.json')\n",
    "history8 = pd.read_json('syd8.json')\n",
    "history9 = pd.read_json('syd9.json')\n",
    "history10 = pd.read_json('syd10.json')\n",
    "history11 = pd.read_json('syd11.json')\n",
    "history12 = pd.read_json('syd12.json')\n",
    "history13 = pd.read_json('syd13.json')\n",
    "history14 = pd.read_json('syd14.json')\n",
    "history15 = pd.read_json('syd15.json')\n",
    "history16 = pd.read_json('syd16.json')\n",
    "history17 = pd.read_json('syd17.json')\n",
    "history18 = pd.read_json('syd18.json')\n",
    "history19 = pd.read_json('syd19.json')\n",
    "complete = pd.concat([history0,history1,history2,history3,history4,history5,history6,history7,history8,history9,history10,history11,history12,history13,history14,history15,history16,history17,history18,history19])\n",
    "print(complete.columns)\n",
    "\n",
    "\n",
    "\n",
    "\n",
    "\n"
   ]
  },
  {
   "cell_type": "markdown",
   "id": "11991001",
   "metadata": {},
   "source": [
    "Cleaning and Reformatting/naming Columns"
   ]
  },
  {
   "cell_type": "code",
   "execution_count": null,
   "id": "ead6d0b0",
   "metadata": {},
   "outputs": [],
   "source": [
    "#Drop unecessary columns and rename original\n",
    "complete = complete.drop(columns=['platform', 'ip_addr', 'audiobook_title', 'audiobook_uri', 'audiobook_chapter_uri', 'audiobook_chapter_title', 'offline', 'offline_timestamp'])\n",
    "complete = complete.rename(columns={'ts':'exactTime', 'ms_played':'ms', 'conn_country':'country','master_metadata_track_name':'trackName',\t'master_metadata_album_artist_name':'artistName','master_metadata_album_album_name':'albumName'\t,'spotify_track_uri':'trackURI', 'episode_name':'episodeName','episode_show_name':'showName', 'spotify_episode_uri':'episodeURI','reason_start':'startReason','reason_end':'endReason','incognito_mode':'incognito'})\n",
    "\n",
    "#convert ms to minutes\n",
    "complete['duration'] = complete['ms']/60000\n",
    "#extract specific times\n",
    "complete['exactTime'] = pd.to_datetime(complete['exactTime'])\n",
    "complete['hour'] = complete['exactTime'].dt.hour\n",
    "complete['day'] = complete['exactTime'].dt.date\n",
    "complete['month'] = complete['exactTime'].dt.month\n",
    "complete['weekday'] = complete['exactTime'].dt.weekday\n",
    "complete['year'] = complete['exactTime'].dt.year\n",
    "\n",
    "complete.head() # complete['year'] = complete['year'].dt.year\n"
   ]
  },
  {
   "cell_type": "markdown",
   "id": "689cab8f",
   "metadata": {},
   "source": [
    "Split Tracks and Episodes"
   ]
  },
  {
   "cell_type": "code",
   "execution_count": null,
   "id": "c96605a7",
   "metadata": {},
   "outputs": [],
   "source": [
    "#Split up dataframe into tracks and episodes/podcasts\n",
    "\n",
    "episodes = complete[complete['episodeName'].notnull()] #save rows where there's an episodeName\n",
    "tracks = complete[complete['trackName'].notnull()] #save rows where there's a trackName\n",
    "print(len(episodes))\n",
    "print(len(tracks))\n",
    "print(len(complete))\n",
    "#tracks = complete[~complete['trackName'].notnull()]\n",
    "\n"
   ]
  },
  {
   "cell_type": "markdown",
   "id": "c1fd5fa5",
   "metadata": {},
   "source": [
    "Store all rows with unique artists"
   ]
  },
  {
   "cell_type": "code",
   "execution_count": null,
   "id": "e9966cca",
   "metadata": {},
   "outputs": [],
   "source": [
    "import spotipy\n",
    "from spotipy.oauth2 import SpotifyClientCredentials\n",
    "import time\n",
    "from dotenv import load_dotenv\n",
    "import os\n",
    "client_id = os.getenv('client_id')\n",
    "client_secret = os.getenv('client_secret')\n",
    "sp = spotipy.Spotify(auth_manager=SpotifyClientCredentials(client_id=client_id, client_secret=client_secret))\n",
    "#only keep unique artists\n",
    "uniqueArtists = tracks.drop_duplicates(subset=['artistName'])\n",
    "uniqueArtists.head()\n",
    "\n",
    "print(len(uniqueArtists))\n",
    "\n"
   ]
  },
  {
   "cell_type": "markdown",
   "id": "0a5543f7",
   "metadata": {},
   "source": [
    "Add track history to postgres\n"
   ]
  },
  {
   "cell_type": "code",
   "execution_count": null,
   "id": "5503bc94",
   "metadata": {},
   "outputs": [],
   "source": [
    "\n",
    "from sqlalchemy import create_engine\n",
    "from sqlalchemy import inspect\n",
    "\n",
    " #connection to postgres db\n",
    "conn_string = 'postgresql://postgres:' + os.getenv('postgres_pass')  + '@localhost:' + os.getenv('postgres_port') + '/Spotify'\n",
    "engine = create_engine(conn_string)\n",
    "#validate if it works\n",
    "inspector = inspect(engine)\n",
    "print(inspector.get_table_names(schema='public'))\n",
    "\n"
   ]
  },
  {
   "cell_type": "code",
   "execution_count": null,
   "id": "a7f6c888",
   "metadata": {},
   "outputs": [],
   "source": [
    "\n",
    "\n",
    "\n",
    "# trackInfo = sp.track(\"spotify:track:50a8bKqlwDEqeiEknrzkTO\") #Get spotify trackinfo\n",
    "# artist = trackInfo['artists'][0] \n",
    "# artistID = artist['id'] #Get artist ID from artist objet\n",
    "# genres =  sp.artist(artistID)['genres'] #Get genre(s) of artists\n",
    "# print(genres)\n",
    "#Dict to map artist with genres\n",
    "# artistGenre = {}\n",
    "# for t in uniqueArtists['trackURI']:\n",
    "#     try: \n",
    "#         trackInfo = sp.track(t) #Get spotify trackinfo\n",
    "#         artist = trackInfo['artists'][0] \n",
    "#         artistID = artist['id'] #Get artist ID from artist objet\n",
    "#         genres =  sp.artist(artistID)['genres'] #Get genre(s) of artists\n",
    "#         if artist['name'] not in artistGenre:\n",
    "#             artistGenre[artist['name']] = genres\n",
    "#     except Exception as e: #If artist is invalid print error  ``\n",
    "#         print(e)\n",
    "#         continue\n",
    "# print(len(artistGenre))\n",
    "    \n",
    "# #print(top)\n",
    "# # print(client_id)\n",
    "# # print(client_secret)\n",
    "\n"
   ]
  },
  {
   "cell_type": "markdown",
   "id": "190f7e9f",
   "metadata": {},
   "source": []
  },
  {
   "cell_type": "code",
   "execution_count": null,
   "id": "a0237225",
   "metadata": {},
   "outputs": [],
   "source": []
  }
 ],
 "metadata": {
  "kernelspec": {
   "display_name": "spotify-analysis",
   "language": "python",
   "name": "python3"
  },
  "language_info": {
   "codemirror_mode": {
    "name": "ipython",
    "version": 3
   },
   "file_extension": ".py",
   "mimetype": "text/x-python",
   "name": "python",
   "nbconvert_exporter": "python",
   "pygments_lexer": "ipython3",
   "version": "3.11.13"
  }
 },
 "nbformat": 4,
 "nbformat_minor": 5
}
